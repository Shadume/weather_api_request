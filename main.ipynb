{
 "cells": [
  {
   "cell_type": "code",
   "execution_count": 325,
   "metadata": {},
   "outputs": [],
   "source": [
    "import requests\n",
    "import os\n",
    "from dotenv import load_dotenv\n",
    "import pandas as pd\n",
    "from datetime import datetime, timezone\n",
    "import pytz"
   ]
  },
  {
   "attachments": {},
   "cell_type": "markdown",
   "metadata": {},
   "source": [
    "Création de la variable d'environnement pour la clé API"
   ]
  },
  {
   "cell_type": "code",
   "execution_count": 326,
   "metadata": {},
   "outputs": [
    {
     "name": "stdout",
     "output_type": "stream",
     "text": [
      "847aa628e28d1c21bd1a1cf67c629b6a\n"
     ]
    }
   ],
   "source": [
    "load_dotenv()\n",
    "API_KEY = str(os.getenv('API_KEY'))\n",
    "print(API_KEY)"
   ]
  },
  {
   "attachments": {},
   "cell_type": "markdown",
   "metadata": {},
   "source": [
    "Création du Dataframe vide et de la liste des villes"
   ]
  },
  {
   "cell_type": "code",
   "execution_count": 327,
   "metadata": {},
   "outputs": [],
   "source": [
    "weather_df = pd.DataFrame(columns=[\"ville\", \"temp_actuelle\", \"temp_ressentie\", \"temp_min\", \"temp_max\", \"pression\", \"humidite\", \"vitesse_du_vent\", \"direction_du_vent\", \"lever_du_soleil\", \"coucher_du_soleil\"])\n",
    "\n",
    "city_list = ['Paris', 'Lille', 'Marseilles', 'Rouen', 'Bordeaux','Cambrai','Nantes','Metz','Toulouse','Montpellier','Nice','Brest','Arras','Lyon','Strasbourg','Angers','Rennes','Dijon','Grenoble','Caen']\n"
   ]
  },
  {
   "attachments": {},
   "cell_type": "markdown",
   "metadata": {},
   "source": [
    "Création d'une boucle pour ajouter les infos de chaque ville au Dataframe et export du Dataframe au format csv"
   ]
  },
  {
   "cell_type": "code",
   "execution_count": 328,
   "metadata": {},
   "outputs": [
    {
     "name": "stderr",
     "output_type": "stream",
     "text": [
      "/tmp/ipykernel_32137/2897165159.py:13: FutureWarning: The frame.append method is deprecated and will be removed from pandas in a future version. Use pandas.concat instead.\n",
      "  weather_df = weather_df.append({'ville' : city, 'temp_actuelle' : temp, 'temp_ressentie' : feels_like, 'temp_min': temp_min, 'temp_max': temp_max, 'pression': pressure, 'humidite': humidity, 'vitesse_du_vent': wind_speed, 'direction_du_vent': wind_deg, 'lever_du_soleil': sunrise, 'coucher_du_soleil': sunset}, ignore_index=True)\n",
      "/tmp/ipykernel_32137/2897165159.py:13: FutureWarning: The frame.append method is deprecated and will be removed from pandas in a future version. Use pandas.concat instead.\n",
      "  weather_df = weather_df.append({'ville' : city, 'temp_actuelle' : temp, 'temp_ressentie' : feels_like, 'temp_min': temp_min, 'temp_max': temp_max, 'pression': pressure, 'humidite': humidity, 'vitesse_du_vent': wind_speed, 'direction_du_vent': wind_deg, 'lever_du_soleil': sunrise, 'coucher_du_soleil': sunset}, ignore_index=True)\n",
      "/tmp/ipykernel_32137/2897165159.py:13: FutureWarning: The frame.append method is deprecated and will be removed from pandas in a future version. Use pandas.concat instead.\n",
      "  weather_df = weather_df.append({'ville' : city, 'temp_actuelle' : temp, 'temp_ressentie' : feels_like, 'temp_min': temp_min, 'temp_max': temp_max, 'pression': pressure, 'humidite': humidity, 'vitesse_du_vent': wind_speed, 'direction_du_vent': wind_deg, 'lever_du_soleil': sunrise, 'coucher_du_soleil': sunset}, ignore_index=True)\n",
      "/tmp/ipykernel_32137/2897165159.py:13: FutureWarning: The frame.append method is deprecated and will be removed from pandas in a future version. Use pandas.concat instead.\n",
      "  weather_df = weather_df.append({'ville' : city, 'temp_actuelle' : temp, 'temp_ressentie' : feels_like, 'temp_min': temp_min, 'temp_max': temp_max, 'pression': pressure, 'humidite': humidity, 'vitesse_du_vent': wind_speed, 'direction_du_vent': wind_deg, 'lever_du_soleil': sunrise, 'coucher_du_soleil': sunset}, ignore_index=True)\n",
      "/tmp/ipykernel_32137/2897165159.py:13: FutureWarning: The frame.append method is deprecated and will be removed from pandas in a future version. Use pandas.concat instead.\n",
      "  weather_df = weather_df.append({'ville' : city, 'temp_actuelle' : temp, 'temp_ressentie' : feels_like, 'temp_min': temp_min, 'temp_max': temp_max, 'pression': pressure, 'humidite': humidity, 'vitesse_du_vent': wind_speed, 'direction_du_vent': wind_deg, 'lever_du_soleil': sunrise, 'coucher_du_soleil': sunset}, ignore_index=True)\n",
      "/tmp/ipykernel_32137/2897165159.py:13: FutureWarning: The frame.append method is deprecated and will be removed from pandas in a future version. Use pandas.concat instead.\n",
      "  weather_df = weather_df.append({'ville' : city, 'temp_actuelle' : temp, 'temp_ressentie' : feels_like, 'temp_min': temp_min, 'temp_max': temp_max, 'pression': pressure, 'humidite': humidity, 'vitesse_du_vent': wind_speed, 'direction_du_vent': wind_deg, 'lever_du_soleil': sunrise, 'coucher_du_soleil': sunset}, ignore_index=True)\n",
      "/tmp/ipykernel_32137/2897165159.py:13: FutureWarning: The frame.append method is deprecated and will be removed from pandas in a future version. Use pandas.concat instead.\n",
      "  weather_df = weather_df.append({'ville' : city, 'temp_actuelle' : temp, 'temp_ressentie' : feels_like, 'temp_min': temp_min, 'temp_max': temp_max, 'pression': pressure, 'humidite': humidity, 'vitesse_du_vent': wind_speed, 'direction_du_vent': wind_deg, 'lever_du_soleil': sunrise, 'coucher_du_soleil': sunset}, ignore_index=True)\n",
      "/tmp/ipykernel_32137/2897165159.py:13: FutureWarning: The frame.append method is deprecated and will be removed from pandas in a future version. Use pandas.concat instead.\n",
      "  weather_df = weather_df.append({'ville' : city, 'temp_actuelle' : temp, 'temp_ressentie' : feels_like, 'temp_min': temp_min, 'temp_max': temp_max, 'pression': pressure, 'humidite': humidity, 'vitesse_du_vent': wind_speed, 'direction_du_vent': wind_deg, 'lever_du_soleil': sunrise, 'coucher_du_soleil': sunset}, ignore_index=True)\n",
      "/tmp/ipykernel_32137/2897165159.py:13: FutureWarning: The frame.append method is deprecated and will be removed from pandas in a future version. Use pandas.concat instead.\n",
      "  weather_df = weather_df.append({'ville' : city, 'temp_actuelle' : temp, 'temp_ressentie' : feels_like, 'temp_min': temp_min, 'temp_max': temp_max, 'pression': pressure, 'humidite': humidity, 'vitesse_du_vent': wind_speed, 'direction_du_vent': wind_deg, 'lever_du_soleil': sunrise, 'coucher_du_soleil': sunset}, ignore_index=True)\n",
      "/tmp/ipykernel_32137/2897165159.py:13: FutureWarning: The frame.append method is deprecated and will be removed from pandas in a future version. Use pandas.concat instead.\n",
      "  weather_df = weather_df.append({'ville' : city, 'temp_actuelle' : temp, 'temp_ressentie' : feels_like, 'temp_min': temp_min, 'temp_max': temp_max, 'pression': pressure, 'humidite': humidity, 'vitesse_du_vent': wind_speed, 'direction_du_vent': wind_deg, 'lever_du_soleil': sunrise, 'coucher_du_soleil': sunset}, ignore_index=True)\n",
      "/tmp/ipykernel_32137/2897165159.py:13: FutureWarning: The frame.append method is deprecated and will be removed from pandas in a future version. Use pandas.concat instead.\n",
      "  weather_df = weather_df.append({'ville' : city, 'temp_actuelle' : temp, 'temp_ressentie' : feels_like, 'temp_min': temp_min, 'temp_max': temp_max, 'pression': pressure, 'humidite': humidity, 'vitesse_du_vent': wind_speed, 'direction_du_vent': wind_deg, 'lever_du_soleil': sunrise, 'coucher_du_soleil': sunset}, ignore_index=True)\n",
      "/tmp/ipykernel_32137/2897165159.py:13: FutureWarning: The frame.append method is deprecated and will be removed from pandas in a future version. Use pandas.concat instead.\n",
      "  weather_df = weather_df.append({'ville' : city, 'temp_actuelle' : temp, 'temp_ressentie' : feels_like, 'temp_min': temp_min, 'temp_max': temp_max, 'pression': pressure, 'humidite': humidity, 'vitesse_du_vent': wind_speed, 'direction_du_vent': wind_deg, 'lever_du_soleil': sunrise, 'coucher_du_soleil': sunset}, ignore_index=True)\n",
      "/tmp/ipykernel_32137/2897165159.py:13: FutureWarning: The frame.append method is deprecated and will be removed from pandas in a future version. Use pandas.concat instead.\n",
      "  weather_df = weather_df.append({'ville' : city, 'temp_actuelle' : temp, 'temp_ressentie' : feels_like, 'temp_min': temp_min, 'temp_max': temp_max, 'pression': pressure, 'humidite': humidity, 'vitesse_du_vent': wind_speed, 'direction_du_vent': wind_deg, 'lever_du_soleil': sunrise, 'coucher_du_soleil': sunset}, ignore_index=True)\n",
      "/tmp/ipykernel_32137/2897165159.py:13: FutureWarning: The frame.append method is deprecated and will be removed from pandas in a future version. Use pandas.concat instead.\n",
      "  weather_df = weather_df.append({'ville' : city, 'temp_actuelle' : temp, 'temp_ressentie' : feels_like, 'temp_min': temp_min, 'temp_max': temp_max, 'pression': pressure, 'humidite': humidity, 'vitesse_du_vent': wind_speed, 'direction_du_vent': wind_deg, 'lever_du_soleil': sunrise, 'coucher_du_soleil': sunset}, ignore_index=True)\n",
      "/tmp/ipykernel_32137/2897165159.py:13: FutureWarning: The frame.append method is deprecated and will be removed from pandas in a future version. Use pandas.concat instead.\n",
      "  weather_df = weather_df.append({'ville' : city, 'temp_actuelle' : temp, 'temp_ressentie' : feels_like, 'temp_min': temp_min, 'temp_max': temp_max, 'pression': pressure, 'humidite': humidity, 'vitesse_du_vent': wind_speed, 'direction_du_vent': wind_deg, 'lever_du_soleil': sunrise, 'coucher_du_soleil': sunset}, ignore_index=True)\n",
      "/tmp/ipykernel_32137/2897165159.py:13: FutureWarning: The frame.append method is deprecated and will be removed from pandas in a future version. Use pandas.concat instead.\n",
      "  weather_df = weather_df.append({'ville' : city, 'temp_actuelle' : temp, 'temp_ressentie' : feels_like, 'temp_min': temp_min, 'temp_max': temp_max, 'pression': pressure, 'humidite': humidity, 'vitesse_du_vent': wind_speed, 'direction_du_vent': wind_deg, 'lever_du_soleil': sunrise, 'coucher_du_soleil': sunset}, ignore_index=True)\n",
      "/tmp/ipykernel_32137/2897165159.py:13: FutureWarning: The frame.append method is deprecated and will be removed from pandas in a future version. Use pandas.concat instead.\n",
      "  weather_df = weather_df.append({'ville' : city, 'temp_actuelle' : temp, 'temp_ressentie' : feels_like, 'temp_min': temp_min, 'temp_max': temp_max, 'pression': pressure, 'humidite': humidity, 'vitesse_du_vent': wind_speed, 'direction_du_vent': wind_deg, 'lever_du_soleil': sunrise, 'coucher_du_soleil': sunset}, ignore_index=True)\n",
      "/tmp/ipykernel_32137/2897165159.py:13: FutureWarning: The frame.append method is deprecated and will be removed from pandas in a future version. Use pandas.concat instead.\n",
      "  weather_df = weather_df.append({'ville' : city, 'temp_actuelle' : temp, 'temp_ressentie' : feels_like, 'temp_min': temp_min, 'temp_max': temp_max, 'pression': pressure, 'humidite': humidity, 'vitesse_du_vent': wind_speed, 'direction_du_vent': wind_deg, 'lever_du_soleil': sunrise, 'coucher_du_soleil': sunset}, ignore_index=True)\n",
      "/tmp/ipykernel_32137/2897165159.py:13: FutureWarning: The frame.append method is deprecated and will be removed from pandas in a future version. Use pandas.concat instead.\n",
      "  weather_df = weather_df.append({'ville' : city, 'temp_actuelle' : temp, 'temp_ressentie' : feels_like, 'temp_min': temp_min, 'temp_max': temp_max, 'pression': pressure, 'humidite': humidity, 'vitesse_du_vent': wind_speed, 'direction_du_vent': wind_deg, 'lever_du_soleil': sunrise, 'coucher_du_soleil': sunset}, ignore_index=True)\n",
      "/tmp/ipykernel_32137/2897165159.py:13: FutureWarning: The frame.append method is deprecated and will be removed from pandas in a future version. Use pandas.concat instead.\n",
      "  weather_df = weather_df.append({'ville' : city, 'temp_actuelle' : temp, 'temp_ressentie' : feels_like, 'temp_min': temp_min, 'temp_max': temp_max, 'pression': pressure, 'humidite': humidity, 'vitesse_du_vent': wind_speed, 'direction_du_vent': wind_deg, 'lever_du_soleil': sunrise, 'coucher_du_soleil': sunset}, ignore_index=True)\n"
     ]
    }
   ],
   "source": [
    "for city in city_list:\n",
    "    response= requests.get(f\"http://api.openweathermap.org/data/2.5/weather?q={city}&units=metric&appid={API_KEY}\")\n",
    "    temp = response.json()['main']['temp']\n",
    "    feels_like = response.json()['main']['feels_like']\n",
    "    temp_min = response.json()['main']['temp_min']\n",
    "    temp_max = response.json()['main']['temp_max']\n",
    "    pressure = response.json()['main']['pressure']\n",
    "    humidity = response.json()['main']['humidity']\n",
    "    wind_speed = response.json()['wind']['speed']\n",
    "    wind_deg = response.json()['wind']['deg']\n",
    "    sunrise = datetime.utcfromtimestamp(response.json()['sys']['sunrise']).strftime('%H:%M:%S')\n",
    "    sunset = datetime.utcfromtimestamp(response.json()['sys']['sunset']).strftime('%H:%M:%S')\n",
    "    weather_df = weather_df.append({'ville' : city, 'temp_actuelle' : temp, 'temp_ressentie' : feels_like, 'temp_min': temp_min, 'temp_max': temp_max, 'pression': pressure, 'humidite': humidity, 'vitesse_du_vent': wind_speed, 'direction_du_vent': wind_deg, 'lever_du_soleil': sunrise, 'coucher_du_soleil': sunset}, ignore_index=True)\n",
    "\n",
    "os.makedirs('./csv', exist_ok=True)  \n",
    "weather_df.to_csv('./csv/weather.csv', index=False)"
   ]
  },
  {
   "attachments": {},
   "cell_type": "markdown",
   "metadata": {},
   "source": [
    "Création de la BDD SQL"
   ]
  },
  {
   "cell_type": "code",
   "execution_count": 329,
   "metadata": {},
   "outputs": [],
   "source": [
    "import sqlite3\n",
    "\n",
    "connexion = sqlite3.connect(\"bdd.db\")\n",
    "curseur = connexion.cursor()\n",
    "\n",
    "curseur.execute(\"\"\"\n",
    "                CREATE TABLE IF NOT EXISTS weather (\n",
    "                    ville TEXT NOT NULL,\n",
    "                    temp_actuelle INTEGER NOT NULL,\n",
    "                    temp_ressentie INTEGER NOT NULL,\n",
    "                    temp_min INTEGER NOT NULL,\n",
    "                    temp_max INTEGER NOT NULL,\n",
    "                    pression INTEGER NOT NULL,\n",
    "                    humidite INTEGER NOT NULL,\n",
    "                    vitesse_du_vent INTEGER NOT NULL,\n",
    "                    direction_du_vent INTEGER NOT NULL,\n",
    "                    lever_du_soleil DATE NOT NULL,\n",
    "                    coucher_du_soleil DATE NOT NULL\n",
    "                )\n",
    "                \"\"\")\n",
    "\n",
    "for city in city_list:\n",
    "    response= requests.get(f\"http://api.openweathermap.org/data/2.5/weather?q={city}&units=metric&appid={API_KEY}\")\n",
    "    temp = response.json()['main']['temp']\n",
    "    feels_like = response.json()['main']['feels_like']\n",
    "    temp_min = response.json()['main']['temp_min']\n",
    "    temp_max = response.json()['main']['temp_max']\n",
    "    pressure = response.json()['main']['pressure']\n",
    "    humidity = response.json()['main']['humidity']\n",
    "    wind_speed = response.json()['wind']['speed']\n",
    "    wind_deg = response.json()['wind']['deg']\n",
    "    sunrise = datetime.utcfromtimestamp(response.json()['sys']['sunrise']).strftime('%H:%M:%S')\n",
    "    sunset = datetime.utcfromtimestamp(response.json()['sys']['sunset']).strftime('%H:%M:%S')\n",
    "    curseur.execute(\"\"\"\n",
    "                        INSERT INTO weather\n",
    "                            VALUES (?, ?, ?, ?, ?, ?, ?, ?, ?, ?, ?)\n",
    "                        \"\"\", (city, temp, feels_like, temp_min, temp_max, pressure, humidity, wind_speed, wind_deg, sunrise, sunset))\n",
    "\n",
    "connexion.commit()\n",
    "connexion.close()"
   ]
  }
 ],
 "metadata": {
  "kernelspec": {
   "display_name": "machine_learning-env",
   "language": "python",
   "name": "python3"
  },
  "language_info": {
   "codemirror_mode": {
    "name": "ipython",
    "version": 3
   },
   "file_extension": ".py",
   "mimetype": "text/x-python",
   "name": "python",
   "nbconvert_exporter": "python",
   "pygments_lexer": "ipython3",
   "version": "3.9.16"
  },
  "orig_nbformat": 4,
  "vscode": {
   "interpreter": {
    "hash": "d6c91d78db5e92535eb9c42e8861d416b1d3c2d120c1dbc7e1429e0b838a8098"
   }
  }
 },
 "nbformat": 4,
 "nbformat_minor": 2
}
